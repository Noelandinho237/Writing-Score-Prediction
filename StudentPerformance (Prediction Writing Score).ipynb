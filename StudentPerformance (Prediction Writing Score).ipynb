{
 "cells": [
  {
   "cell_type": "markdown",
   "id": "babc8257",
   "metadata": {},
   "source": [
    "# TP STUDENT_PERFORMANCE GROUPE 06 PREDICTION"
   ]
  },
  {
   "cell_type": "code",
   "execution_count": 1,
   "id": "5ae3d729",
   "metadata": {},
   "outputs": [],
   "source": [
    "import numpy as np \n",
    "import pandas as pd \n",
    "\n",
    "import seaborn as sns\n",
    "import matplotlib.pyplot as plt \n",
    "\n",
    "from sklearn.model_selection import train_test_split\n",
    "from sklearn.model_selection import cross_val_score\n",
    "from sklearn.model_selection import validation_curve\n",
    "from sklearn.model_selection import GridSearchCV\n",
    "from sklearn.model_selection import learning_curve\n",
    "from sklearn.metrics import *\n",
    "\n",
    "# Algorithme pour la classification\n",
    "from sklearn.neighbors import KNeighborsClassifier\n",
    "from sklearn.naive_bayes import GaussianNB\n",
    "from sklearn.tree import DecisionTreeClassifier \n",
    "from sklearn.svm import SVC\n",
    "from sklearn.ensemble import RandomForestClassifier\n",
    "\n",
    "#Algorithme pour la régression\n",
    "from sklearn.svm import SVR\n",
    "from sklearn.ensemble import RandomForestRegressor\n",
    "from sklearn.tree import DecisionTreeRegressor\n",
    "from sklearn.neighbors import KNeighborsRegressor\n",
    "from sklearn.linear_model import LinearRegression\n",
    "from sklearn.linear_model import Perceptron\n",
    "from sklearn.linear_model import BayesianRidge\n",
    "\n",
    "import warnings\n",
    "warnings.filterwarnings('ignore')"
   ]
  },
  {
   "cell_type": "raw",
   "id": "ce946f0f",
   "metadata": {},
   "source": [
    "Train test split ♦\n",
    "Validation set ♦\n",
    "Cross Validation♦\n",
    "Validation curve(Pour tester l'overfiting)♦\n",
    "GridSearchCV♦\n",
    "Confusion Matrix♦\n",
    "learningCurve\n",
    "\n",
    "Calculer le MAE(est utiliser lorsque le data set contient des valeurs abberantes outliers)\n",
    "Calculer le MSE\n",
    "Calculer le R2\n",
    "Calculer le RMSE\n",
    "Calculer le MAE (median absolute Error), il est préferables d'utiliser toutes \n",
    "coefficient de determiantion R2(bien quand proche de 1 pas bon quand proche de 0)\n",
    "\n",
    "il faut visualiser erreurs que fait le modéle grace a un histogramme "
   ]
  },
  {
   "cell_type": "code",
   "execution_count": 2,
   "id": "d81aa372",
   "metadata": {},
   "outputs": [
    {
     "data": {
      "text/plain": [
       "filter"
      ]
     },
     "execution_count": 2,
     "metadata": {},
     "output_type": "execute_result"
    }
   ],
   "source": [
    "filter"
   ]
  },
  {
   "cell_type": "code",
   "execution_count": 3,
   "id": "4f8bd098",
   "metadata": {},
   "outputs": [],
   "source": [
    "#  clf = Perceptron(fit_intercept=False, max_iter=10, tol=None,\n",
    "# ...                  shuffle=False).fit(X, y)\n",
    "#\n",
    "#  reg = linear_model.BayesianRidge()"
   ]
  },
  {
   "cell_type": "code",
   "execution_count": 4,
   "id": "ddf7c0eb",
   "metadata": {},
   "outputs": [],
   "source": [
    "# Importation du dataset \n",
    "\n",
    "data = pd.read_csv('dataset/StudentsPerformance.csv')"
   ]
  },
  {
   "cell_type": "code",
   "execution_count": 5,
   "id": "747e7a9e",
   "metadata": {},
   "outputs": [
    {
     "data": {
      "text/html": [
       "<div>\n",
       "<style scoped>\n",
       "    .dataframe tbody tr th:only-of-type {\n",
       "        vertical-align: middle;\n",
       "    }\n",
       "\n",
       "    .dataframe tbody tr th {\n",
       "        vertical-align: top;\n",
       "    }\n",
       "\n",
       "    .dataframe thead th {\n",
       "        text-align: right;\n",
       "    }\n",
       "</style>\n",
       "<table border=\"1\" class=\"dataframe\">\n",
       "  <thead>\n",
       "    <tr style=\"text-align: right;\">\n",
       "      <th></th>\n",
       "      <th>gender</th>\n",
       "      <th>race/ethnicity</th>\n",
       "      <th>parental level of education</th>\n",
       "      <th>lunch</th>\n",
       "      <th>test preparation course</th>\n",
       "      <th>math score</th>\n",
       "      <th>reading score</th>\n",
       "      <th>writing score</th>\n",
       "    </tr>\n",
       "  </thead>\n",
       "  <tbody>\n",
       "    <tr>\n",
       "      <th>0</th>\n",
       "      <td>female</td>\n",
       "      <td>group B</td>\n",
       "      <td>bachelor's degree</td>\n",
       "      <td>standard</td>\n",
       "      <td>none</td>\n",
       "      <td>72</td>\n",
       "      <td>72</td>\n",
       "      <td>74</td>\n",
       "    </tr>\n",
       "    <tr>\n",
       "      <th>1</th>\n",
       "      <td>female</td>\n",
       "      <td>group C</td>\n",
       "      <td>some college</td>\n",
       "      <td>standard</td>\n",
       "      <td>completed</td>\n",
       "      <td>69</td>\n",
       "      <td>90</td>\n",
       "      <td>88</td>\n",
       "    </tr>\n",
       "    <tr>\n",
       "      <th>2</th>\n",
       "      <td>female</td>\n",
       "      <td>group B</td>\n",
       "      <td>master's degree</td>\n",
       "      <td>standard</td>\n",
       "      <td>none</td>\n",
       "      <td>90</td>\n",
       "      <td>95</td>\n",
       "      <td>93</td>\n",
       "    </tr>\n",
       "    <tr>\n",
       "      <th>3</th>\n",
       "      <td>male</td>\n",
       "      <td>group A</td>\n",
       "      <td>associate's degree</td>\n",
       "      <td>free/reduced</td>\n",
       "      <td>none</td>\n",
       "      <td>47</td>\n",
       "      <td>57</td>\n",
       "      <td>44</td>\n",
       "    </tr>\n",
       "    <tr>\n",
       "      <th>4</th>\n",
       "      <td>male</td>\n",
       "      <td>group C</td>\n",
       "      <td>some college</td>\n",
       "      <td>standard</td>\n",
       "      <td>none</td>\n",
       "      <td>76</td>\n",
       "      <td>78</td>\n",
       "      <td>75</td>\n",
       "    </tr>\n",
       "  </tbody>\n",
       "</table>\n",
       "</div>"
      ],
      "text/plain": [
       "   gender race/ethnicity parental level of education         lunch  \\\n",
       "0  female        group B           bachelor's degree      standard   \n",
       "1  female        group C                some college      standard   \n",
       "2  female        group B             master's degree      standard   \n",
       "3    male        group A          associate's degree  free/reduced   \n",
       "4    male        group C                some college      standard   \n",
       "\n",
       "  test preparation course  math score  reading score  writing score  \n",
       "0                    none          72             72             74  \n",
       "1               completed          69             90             88  \n",
       "2                    none          90             95             93  \n",
       "3                    none          47             57             44  \n",
       "4                    none          76             78             75  "
      ]
     },
     "execution_count": 5,
     "metadata": {},
     "output_type": "execute_result"
    }
   ],
   "source": [
    "#Petite aperçu du jeu de données\n",
    "\n",
    "data.head()"
   ]
  },
  {
   "cell_type": "code",
   "execution_count": 6,
   "id": "a1040616",
   "metadata": {},
   "outputs": [
    {
     "name": "stdout",
     "output_type": "stream",
     "text": [
      "<class 'pandas.core.frame.DataFrame'>\n",
      "RangeIndex: 1000 entries, 0 to 999\n",
      "Data columns (total 8 columns):\n",
      " #   Column                       Non-Null Count  Dtype \n",
      "---  ------                       --------------  ----- \n",
      " 0   gender                       1000 non-null   object\n",
      " 1   race/ethnicity               1000 non-null   object\n",
      " 2   parental level of education  1000 non-null   object\n",
      " 3   lunch                        1000 non-null   object\n",
      " 4   test preparation course      1000 non-null   object\n",
      " 5   math score                   1000 non-null   int64 \n",
      " 6   reading score                1000 non-null   int64 \n",
      " 7   writing score                1000 non-null   int64 \n",
      "dtypes: int64(3), object(5)\n",
      "memory usage: 62.6+ KB\n"
     ]
    }
   ],
   "source": [
    "#Nous observons qu'il y'a pas de données manquantes dans notre jeu de données\n",
    "data.info()"
   ]
  },
  {
   "cell_type": "code",
   "execution_count": 7,
   "id": "b7786e4d",
   "metadata": {},
   "outputs": [
    {
     "data": {
      "text/plain": [
       "0"
      ]
     },
     "execution_count": 7,
     "metadata": {},
     "output_type": "execute_result"
    }
   ],
   "source": [
    "# Lignes dupliquées aucune alors le dataset est pret pour l'analyse univariée \n",
    "data.duplicated().sum()"
   ]
  },
  {
   "cell_type": "markdown",
   "id": "f830a6c1",
   "metadata": {},
   "source": [
    "### Identfication du problème Classification ou Régression ??"
   ]
  },
  {
   "cell_type": "code",
   "execution_count": 8,
   "id": "0b86b75e",
   "metadata": {},
   "outputs": [
    {
     "data": {
      "text/plain": [
       "gender                          2\n",
       "race/ethnicity                  5\n",
       "parental level of education     6\n",
       "lunch                           2\n",
       "test preparation course         2\n",
       "math score                     81\n",
       "reading score                  72\n",
       "writing score                  77\n",
       "dtype: int64"
      ]
     },
     "execution_count": 8,
     "metadata": {},
     "output_type": "execute_result"
    }
   ],
   "source": [
    "data.nunique()"
   ]
  },
  {
   "cell_type": "code",
   "execution_count": 9,
   "id": "0ed0c8af",
   "metadata": {},
   "outputs": [
    {
     "data": {
      "text/plain": [
       "array([ 74,  88,  93,  44,  75,  78,  92,  39,  67,  50,  52,  43,  73,\n",
       "        70,  58,  86,  28,  46,  61,  63,  53,  80,  72,  55,  65,  38,\n",
       "        82,  79,  83,  59,  57,  54,  68,  66,  62,  76,  48,  42,  87,\n",
       "        49,  10,  34,  71,  37,  56,  41,  22,  81,  45,  36,  89,  47,\n",
       "        90, 100,  64,  98,  51,  40,  84,  69,  33,  60,  85,  91,  77,\n",
       "        27,  94,  95,  19,  35,  32,  96,  97,  99,  15,  30,  23],\n",
       "      dtype=int64)"
      ]
     },
     "execution_count": 9,
     "metadata": {},
     "output_type": "execute_result"
    }
   ],
   "source": [
    "#Afficher les différentes valeur qui existe dans la variable writing score\n",
    "\n",
    "data['writing score'].unique()"
   ]
  },
  {
   "cell_type": "code",
   "execution_count": 10,
   "id": "b68c4631",
   "metadata": {},
   "outputs": [
    {
     "data": {
      "text/plain": [
       "77"
      ]
     },
     "execution_count": 10,
     "metadata": {},
     "output_type": "execute_result"
    }
   ],
   "source": [
    "# Affichons le nombre des différentes notes qui exist dans cette colonne\n",
    "\n",
    "data['writing score'].unique().shape[0]"
   ]
  },
  {
   "cell_type": "markdown",
   "id": "d7123dc6",
   "metadata": {},
   "source": [
    "### Avant de diviser les données il faut transformer les valeurs catégorielles en valeur numériques allons-y"
   ]
  },
  {
   "cell_type": "code",
   "execution_count": 11,
   "id": "f94dbd91",
   "metadata": {},
   "outputs": [
    {
     "data": {
      "text/plain": [
       "Index(['gender', 'race/ethnicity', 'parental level of education', 'lunch',\n",
       "       'test preparation course', 'math score', 'reading score',\n",
       "       'writing score'],\n",
       "      dtype='object')"
      ]
     },
     "execution_count": 11,
     "metadata": {},
     "output_type": "execute_result"
    }
   ],
   "source": [
    "data.columns"
   ]
  },
  {
   "cell_type": "code",
   "execution_count": 12,
   "id": "0282477b",
   "metadata": {},
   "outputs": [],
   "source": [
    "#Conversion du genre en version numérique\n",
    "data['gender_n'] = 0\n",
    "\n",
    "# Les male seront remplacer par la valeur numérique 1\n",
    "# Les female seront remplacer par la valeur numérique 0\n",
    "\n",
    "data.loc[ data['gender'] == 'male' , 'sex' ] = 1\n",
    "data.loc[ data['gender'] == 'female', 'sex'  ] = 0"
   ]
  },
  {
   "cell_type": "code",
   "execution_count": 13,
   "id": "f22b8705",
   "metadata": {},
   "outputs": [],
   "source": [
    "data['race/ethnicity_n'] = 0\n",
    "\n",
    "data.loc[ data['race/ethnicity'] == 'group A' , 'race/ethnicity_n' ] = 0\n",
    "data.loc[ data['race/ethnicity'] == 'group B' , 'race/ethnicity_n' ] = 1\n",
    "data.loc[ data['race/ethnicity'] == 'group C' , 'race/ethnicity_n' ] = 2\n",
    "data.loc[ data['race/ethnicity'] == 'group D' , 'race/ethnicity_n' ] = 3\n",
    "data.loc[ data['race/ethnicity'] == 'group E' , 'race/ethnicity_n' ] = 4"
   ]
  },
  {
   "cell_type": "code",
   "execution_count": 14,
   "id": "adceba11",
   "metadata": {},
   "outputs": [],
   "source": [
    "data['parental level of education_n'] = 0\n",
    "\n",
    "data.loc[ data['parental level of education'] == 'bachelor\\'s degree' , 'parental level of education_n' ] = 0\n",
    "data.loc[ data['parental level of education'] == 'some college' , 'parental level of education_n' ] = 1\n",
    "data.loc[ data['parental level of education'] == 'master\\'s degree' , 'parental level of education_n' ] = 2\n",
    "data.loc[ data['parental level of education'] == 'associate\\'s degree' , 'parental level of education_n' ] = 3\n",
    "data.loc[ data['parental level of education'] == 'high school' , 'parental level of education_n' ] = 4\n",
    "data.loc[ data['parental level of education'] == 'some high school' , 'parental level of education_n' ] = 5"
   ]
  },
  {
   "cell_type": "code",
   "execution_count": 15,
   "id": "07e21266",
   "metadata": {},
   "outputs": [],
   "source": [
    "data['lunch_n'] = 0\n",
    "\n",
    "data.loc[ data['lunch'] == 'standard' , 'lunch_n' ] = 0\n",
    "data.loc[ data['lunch'] == 'free/reduced' , 'lunch_n' ] = 1"
   ]
  },
  {
   "cell_type": "code",
   "execution_count": 16,
   "id": "842f6bce",
   "metadata": {},
   "outputs": [],
   "source": [
    "data['test preparation course_n'] = 0\n",
    "\n",
    "data.loc[ data['test preparation course'] == 'none' , 'test preparation course_n' ] = 0\n",
    "data.loc[ data['test preparation course'] == 'completed' , 'test preparation course_n' ] = 1"
   ]
  },
  {
   "cell_type": "markdown",
   "id": "1a5bf998",
   "metadata": {},
   "source": [
    "# SELECTIONNONS LES VARIABLE NUMERIQUE POUR LA SUITE DU PRE-TRAITEMENT"
   ]
  },
  {
   "cell_type": "code",
   "execution_count": 17,
   "id": "66420bfa",
   "metadata": {},
   "outputs": [],
   "source": [
    "col = ['gender_n','race/ethnicity_n',\n",
    "       'parental level of education_n','lunch_n',\n",
    "       'test preparation course_n',\n",
    "       'writing score',\n",
    "       'reading score',\n",
    "       'math score'\n",
    "      ]\n",
    "\n",
    "data = data[col]"
   ]
  },
  {
   "cell_type": "code",
   "execution_count": 18,
   "id": "54b363b5",
   "metadata": {},
   "outputs": [
    {
     "data": {
      "text/plain": [
       "Index(['gender_n', 'race/ethnicity_n', 'parental level of education_n',\n",
       "       'lunch_n', 'test preparation course_n', 'writing score',\n",
       "       'reading score', 'math score'],\n",
       "      dtype='object')"
      ]
     },
     "execution_count": 18,
     "metadata": {},
     "output_type": "execute_result"
    }
   ],
   "source": [
    "data.columns"
   ]
  },
  {
   "cell_type": "code",
   "execution_count": 19,
   "id": "4a176d91",
   "metadata": {},
   "outputs": [
    {
     "data": {
      "text/html": [
       "<div>\n",
       "<style scoped>\n",
       "    .dataframe tbody tr th:only-of-type {\n",
       "        vertical-align: middle;\n",
       "    }\n",
       "\n",
       "    .dataframe tbody tr th {\n",
       "        vertical-align: top;\n",
       "    }\n",
       "\n",
       "    .dataframe thead th {\n",
       "        text-align: right;\n",
       "    }\n",
       "</style>\n",
       "<table border=\"1\" class=\"dataframe\">\n",
       "  <thead>\n",
       "    <tr style=\"text-align: right;\">\n",
       "      <th></th>\n",
       "      <th>gender_n</th>\n",
       "      <th>race/ethnicity_n</th>\n",
       "      <th>parental level of education_n</th>\n",
       "      <th>lunch_n</th>\n",
       "      <th>test preparation course_n</th>\n",
       "      <th>writing score</th>\n",
       "      <th>reading score</th>\n",
       "      <th>math score</th>\n",
       "    </tr>\n",
       "  </thead>\n",
       "  <tbody>\n",
       "    <tr>\n",
       "      <th>0</th>\n",
       "      <td>0</td>\n",
       "      <td>1</td>\n",
       "      <td>0</td>\n",
       "      <td>0</td>\n",
       "      <td>0</td>\n",
       "      <td>74</td>\n",
       "      <td>72</td>\n",
       "      <td>72</td>\n",
       "    </tr>\n",
       "    <tr>\n",
       "      <th>1</th>\n",
       "      <td>0</td>\n",
       "      <td>2</td>\n",
       "      <td>1</td>\n",
       "      <td>0</td>\n",
       "      <td>1</td>\n",
       "      <td>88</td>\n",
       "      <td>90</td>\n",
       "      <td>69</td>\n",
       "    </tr>\n",
       "    <tr>\n",
       "      <th>2</th>\n",
       "      <td>0</td>\n",
       "      <td>1</td>\n",
       "      <td>2</td>\n",
       "      <td>0</td>\n",
       "      <td>0</td>\n",
       "      <td>93</td>\n",
       "      <td>95</td>\n",
       "      <td>90</td>\n",
       "    </tr>\n",
       "    <tr>\n",
       "      <th>3</th>\n",
       "      <td>0</td>\n",
       "      <td>0</td>\n",
       "      <td>3</td>\n",
       "      <td>1</td>\n",
       "      <td>0</td>\n",
       "      <td>44</td>\n",
       "      <td>57</td>\n",
       "      <td>47</td>\n",
       "    </tr>\n",
       "    <tr>\n",
       "      <th>4</th>\n",
       "      <td>0</td>\n",
       "      <td>2</td>\n",
       "      <td>1</td>\n",
       "      <td>0</td>\n",
       "      <td>0</td>\n",
       "      <td>75</td>\n",
       "      <td>78</td>\n",
       "      <td>76</td>\n",
       "    </tr>\n",
       "  </tbody>\n",
       "</table>\n",
       "</div>"
      ],
      "text/plain": [
       "   gender_n  race/ethnicity_n  parental level of education_n  lunch_n  \\\n",
       "0         0                 1                              0        0   \n",
       "1         0                 2                              1        0   \n",
       "2         0                 1                              2        0   \n",
       "3         0                 0                              3        1   \n",
       "4         0                 2                              1        0   \n",
       "\n",
       "   test preparation course_n  writing score  reading score  math score  \n",
       "0                          0             74             72          72  \n",
       "1                          1             88             90          69  \n",
       "2                          0             93             95          90  \n",
       "3                          0             44             57          47  \n",
       "4                          0             75             78          76  "
      ]
     },
     "execution_count": 19,
     "metadata": {},
     "output_type": "execute_result"
    }
   ],
   "source": [
    "data.head()"
   ]
  },
  {
   "cell_type": "markdown",
   "id": "8b25e6c3",
   "metadata": {},
   "source": [
    "### Les valeurs de writing score sont entière donc on parle de probléme de classiffication dans les normes mais vu le nombre de classe a concevoir... ce qui ne sera pas chose facile\n",
    "\n",
    "### Dans un prémier temps nous allons le traiter comme un problème de classification parce que les note sont Quantitative discret \n",
    "\n",
    "### Ensuite comme un problème de régression car nous avons 77 classe, quand nous avons autant de classe il faut penser a un problème de régression et comparer les 2 résultats obtenue(soit classification ou régression)"
   ]
  },
  {
   "cell_type": "code",
   "execution_count": null,
   "id": "9de37c9b",
   "metadata": {},
   "outputs": [],
   "source": []
  },
  {
   "cell_type": "markdown",
   "id": "355efc9d",
   "metadata": {},
   "source": [
    "# DIVISION DES DONNEES EN TRAIN ET TEST SET "
   ]
  },
  {
   "cell_type": "code",
   "execution_count": 20,
   "id": "b807125e",
   "metadata": {},
   "outputs": [],
   "source": [
    "y = data['writing score']\n",
    "X = data.drop('writing score',axis=1)"
   ]
  },
  {
   "cell_type": "code",
   "execution_count": 21,
   "id": "79dfb80e",
   "metadata": {},
   "outputs": [],
   "source": [
    "X_train, X_test, y_train, y_test = train_test_split(X, y, \n",
    "                                                    test_size=0.2,\n",
    "                                                    random_state=11,\n",
    "                                                    shuffle=True\n",
    "                                                    )"
   ]
  },
  {
   "cell_type": "code",
   "execution_count": 22,
   "id": "b6bab54b",
   "metadata": {},
   "outputs": [
    {
     "name": "stdout",
     "output_type": "stream",
     "text": [
      "X_Train set (800, 7)\n",
      "X_Test set (200, 7)\n"
     ]
    }
   ],
   "source": [
    "print('X_Train set',X_train.shape)\n",
    "print('X_Test set',X_test.shape)"
   ]
  },
  {
   "cell_type": "code",
   "execution_count": 23,
   "id": "23ce8d25",
   "metadata": {},
   "outputs": [
    {
     "name": "stdout",
     "output_type": "stream",
     "text": [
      "y_train set (800,)\n",
      "y_test set (200,)\n"
     ]
    }
   ],
   "source": [
    "print('y_train set',y_train.shape)\n",
    "print('y_test set',y_test.shape)"
   ]
  },
  {
   "cell_type": "code",
   "execution_count": 24,
   "id": "9e5d4a8f",
   "metadata": {},
   "outputs": [
    {
     "data": {
      "text/plain": [
       "Text(0.5, 1.0, 'Test set')"
      ]
     },
     "execution_count": 24,
     "metadata": {},
     "output_type": "execute_result"
    },
    {
     "data": {
      "image/png": "[encoded data removed]",
      "text/plain": [
       "<Figure size 864x288 with 2 Axes>"
      ]
     },
     "metadata": {
      "needs_background": "light"
     },
     "output_type": "display_data"
    }
   ],
   "source": [
    "plt.figure(figsize=(12,4))\n",
    "\n",
    "plt.subplot(121)\n",
    "plt.scatter(X_train['reading score'],X_train['math score'],alpha=0.65)\n",
    "plt.xlabel('Reading score')\n",
    "plt.ylabel('Math score')\n",
    "plt.title('Train set')\n",
    "\n",
    "plt.subplot(122)\n",
    "plt.scatter(X_test['reading score'],X_test['math score'],alpha=0.65)\n",
    "plt.xlabel('Reading score')\n",
    "plt.ylabel('Math score')\n",
    "plt.title('Test set')"
   ]
  },
  {
   "cell_type": "markdown",
   "id": "62c8779a",
   "metadata": {},
   "source": [
    "### Pour me rassurer ci je dois utiliser un modèle j'évalue d'abord si l'entrainement avec c'est propres données d'entrainement est au moins supérieur a 90%"
   ]
  },
  {
   "cell_type": "code",
   "execution_count": 25,
   "id": "691dadc5",
   "metadata": {},
   "outputs": [
    {
     "name": "stdout",
     "output_type": "stream",
     "text": [
      "Train score 40.25\n",
      "Test score 7.5\n"
     ]
    }
   ],
   "source": [
    "neighbors = KNeighborsClassifier(n_neighbors=3)\n",
    "neighbors.fit(X_train,y_train)\n",
    "\n",
    "print('Train score',neighbors.score(X_train,y_train)*100 )\n",
    "print('Test score',neighbors.score(X_test,y_test)*100 )"
   ]
  },
  {
   "cell_type": "code",
   "execution_count": 26,
   "id": "8e3f42d3",
   "metadata": {},
   "outputs": [
    {
     "name": "stdout",
     "output_type": "stream",
     "text": [
      "Train score 99.5\n",
      "Test score 9.0\n"
     ]
    }
   ],
   "source": [
    "tree = DecisionTreeClassifier()\n",
    "tree.fit(X_train,y_train)\n",
    "\n",
    "print('Train score',tree.score(X_train,y_train)*100 )\n",
    "print('Test score',tree.score(X_test,y_test)*100 )"
   ]
  },
  {
   "cell_type": "code",
   "execution_count": 27,
   "id": "52094bb3",
   "metadata": {},
   "outputs": [
    {
     "name": "stdout",
     "output_type": "stream",
     "text": [
      "Train score 15.875\n",
      "Test score 10.0\n"
     ]
    }
   ],
   "source": [
    "naive = GaussianNB()\n",
    "naive.fit(X_train,y_train)\n",
    "\n",
    "print('Train score',naive.score(X_train,y_train)*100 )\n",
    "print('Test score',naive.score(X_test,y_test)*100 )"
   ]
  },
  {
   "cell_type": "code",
   "execution_count": 28,
   "id": "4f48a6fd",
   "metadata": {},
   "outputs": [
    {
     "name": "stdout",
     "output_type": "stream",
     "text": [
      "Train score 7.124999999999999\n",
      "Test score 7.5\n"
     ]
    }
   ],
   "source": [
    "svc = SVC()\n",
    "svc.fit(X_train,y_train)\n",
    "\n",
    "print('Train score',svc.score(X_train,y_train)*100 )\n",
    "print('Test score',svc.score(X_test,y_test)*100 )"
   ]
  },
  {
   "cell_type": "code",
   "execution_count": 29,
   "id": "8d663ec1",
   "metadata": {},
   "outputs": [
    {
     "name": "stdout",
     "output_type": "stream",
     "text": [
      "Train score 99.5\n",
      "Test score 4.0\n"
     ]
    }
   ],
   "source": [
    "rfc = RandomForestClassifier()\n",
    "rfc.fit(X_train,y_train)\n",
    "\n",
    "print('Train score',rfc.score(X_train,y_train)*100 )\n",
    "print('Test score',rfc.score(X_test,y_test)*100 )"
   ]
  },
  {
   "cell_type": "markdown",
   "id": "64e5a2ec",
   "metadata": {},
   "source": [
    "### Nous pouvons le constater que même le score d'entrainement sur les propres données d'entrainement sont pas 100% pire encore le score de test qui ne depasse pas les 20%"
   ]
  },
  {
   "cell_type": "markdown",
   "id": "cd96096b",
   "metadata": {},
   "source": [
    "### Alors prennont ce problème comme un problèmes de régression"
   ]
  },
  {
   "cell_type": "code",
   "execution_count": 30,
   "id": "9c2f6f33",
   "metadata": {},
   "outputs": [
    {
     "name": "stdout",
     "output_type": "stream",
     "text": [
      "Train score 92.66047359098746\n",
      "Test score 91.50454493180536\n"
     ]
    },
    {
     "data": {
      "text/plain": [
       "array([71.39176077])"
      ]
     },
     "execution_count": 30,
     "metadata": {},
     "output_type": "execute_result"
    }
   ],
   "source": [
    "linear = LinearRegression()\n",
    "linear.fit(X_train,y_train)\n",
    "\n",
    "print('Train score',linear.score(X_train,y_train)*100 )\n",
    "print('Test score',linear.score(X_test,y_test)*100 )\n",
    "\n",
    "f = np.array([0,1,0,0,0,72,72]).reshape(1,7)\n",
    "linear.predict(f)"
   ]
  },
  {
   "cell_type": "code",
   "execution_count": 31,
   "id": "88a596f2",
   "metadata": {},
   "outputs": [
    {
     "name": "stdout",
     "output_type": "stream",
     "text": [
      "Train score 13.5\n",
      "Test score 6.5\n"
     ]
    }
   ],
   "source": [
    "logistic = LogisticRegression(max_iter=770)\n",
    "logistic.fit(X_train,y_train)\n",
    "\n",
    "print('Train score',logistic.score(X_train,y_train)*100 )\n",
    "print('Test score',logistic.score(X_test,y_test)*100 )"
   ]
  },
  {
   "cell_type": "code",
   "execution_count": 32,
   "id": "d332203b",
   "metadata": {},
   "outputs": [
    {
     "name": "stdout",
     "output_type": "stream",
     "text": [
      "Train score 88.46044992158329\n",
      "Test score 88.59002375351088\n"
     ]
    },
    {
     "data": {
      "text/plain": [
       "array([71.87572722])"
      ]
     },
     "execution_count": 32,
     "metadata": {},
     "output_type": "execute_result"
    }
   ],
   "source": [
    "svr = SVR()\n",
    "svr.fit(X_train,y_train)\n",
    "\n",
    "print('Train score',svr.score(X_train,y_train)*100 )\n",
    "print('Test score',svr.score(X_test,y_test)*100)\n",
    "\n",
    "f = np.array([0,1,0,0,0,72,72]).reshape(1,7)\n",
    "svr.predict(f)"
   ]
  },
  {
   "cell_type": "code",
   "execution_count": 33,
   "id": "8c5d35bf",
   "metadata": {},
   "outputs": [
    {
     "name": "stdout",
     "output_type": "stream",
     "text": [
      "Train score 98.74264694921813\n",
      "Test score 89.97027781457189\n"
     ]
    },
    {
     "data": {
      "text/plain": [
       "array([72.73])"
      ]
     },
     "execution_count": 33,
     "metadata": {},
     "output_type": "execute_result"
    }
   ],
   "source": [
    "rfr = RandomForestRegressor()\n",
    "rfr.fit(X_train,y_train)\n",
    "\n",
    "print('Train score',rfr.score(X_train,y_train)*100 )\n",
    "print('Test score',rfr.score(X_test,y_test)*100)\n",
    "\n",
    "#cross_val_score(rfr,X_train,y_train,cv=5,scoring='accuracy')\n",
    "\n",
    "f = np.array([0,1,0,0,0,72,72]).reshape(1,7)\n",
    "rfr.predict(f)"
   ]
  },
  {
   "cell_type": "code",
   "execution_count": 34,
   "id": "46803e45",
   "metadata": {},
   "outputs": [
    {
     "name": "stdout",
     "output_type": "stream",
     "text": [
      "Train score 99.94618588347439\n",
      "Test score 81.88523176978289\n"
     ]
    },
    {
     "data": {
      "text/plain": [
       "array([74.])"
      ]
     },
     "execution_count": 34,
     "metadata": {},
     "output_type": "execute_result"
    }
   ],
   "source": [
    "reg_tree = DecisionTreeRegressor()\n",
    "reg_tree.fit(X_train,y_train)\n",
    "\n",
    "print('Train score',reg_tree.score(X_train,y_train)*100 )\n",
    "print('Test score',reg_tree.score(X_test,y_test)*100)\n",
    "\n",
    "#cross_val_score(reg_tree,X_train,y_train,cv=5,scoring='accuracy')\n",
    "\n",
    "f = np.array([0,1,0,0,0,72,72]).reshape(1,7)\n",
    "reg_tree.predict(f)"
   ]
  },
  {
   "cell_type": "code",
   "execution_count": 35,
   "id": "3e5bebea",
   "metadata": {},
   "outputs": [
    {
     "name": "stdout",
     "output_type": "stream",
     "text": [
      "Train score 92.3127033308149\n",
      "Test score 89.11183828193596\n"
     ]
    },
    {
     "data": {
      "text/plain": [
       "array([72.7])"
      ]
     },
     "execution_count": 35,
     "metadata": {},
     "output_type": "execute_result"
    }
   ],
   "source": [
    "knr = KNeighborsRegressor(10)\n",
    "knr.fit(X_train,y_train)\n",
    "\n",
    "print('Train score',knr.score(X_train,y_train)*100 )\n",
    "print('Test score',knr.score(X_test,y_test)*100)\n",
    "\n",
    "cross_val_score(knr,X_train,y_train,cv=5,scoring='precision')\n",
    "\n",
    "f = np.array([0,1,0,0,0,72,72]).reshape(1,7)\n",
    "knr.predict(f)"
   ]
  },
  {
   "cell_type": "code",
   "execution_count": 36,
   "id": "9c759c86",
   "metadata": {},
   "outputs": [
    {
     "name": "stdout",
     "output_type": "stream",
     "text": [
      "Train score 1.125\n",
      "Test score 1.0\n"
     ]
    },
    {
     "data": {
      "text/plain": [
       "array([92], dtype=int64)"
      ]
     },
     "execution_count": 36,
     "metadata": {},
     "output_type": "execute_result"
    }
   ],
   "source": [
    "perceptron = Perceptron()\n",
    "perceptron.fit(X_train,y_train)\n",
    "\n",
    "print('Train score',perceptron.score(X_train,y_train)*100 )\n",
    "print('Test score',perceptron.score(X_test,y_test)*100)\n",
    "\n",
    "#cross_val_score(perceptron,X_train,y_train,cv=5)\n",
    "\n",
    "f = np.array([0,1,0,0,0,72,72]).reshape(1,7)\n",
    "perceptron.predict(f)"
   ]
  },
  {
   "cell_type": "markdown",
   "id": "a72f7d02",
   "metadata": {},
   "source": [
    "### Le score de test est de 100% ça fait peur et surtout je suis entrain d'humé le surapprentissage..."
   ]
  },
  {
   "cell_type": "markdown",
   "id": "10ac9237",
   "metadata": {},
   "source": [
    "## Continuons avec les algorithme de BayesianRidge"
   ]
  },
  {
   "cell_type": "code",
   "execution_count": 64,
   "id": "f69d60a0",
   "metadata": {},
   "outputs": [
    {
     "name": "stdout",
     "output_type": "stream",
     "text": [
      "Train score 92.65750514721663\n",
      "Test score  91.519410758941\n"
     ]
    }
   ],
   "source": [
    "bay_reg = BayesianRidge()\n",
    "bay_reg.fit(X_train,y_train)\n",
    "\n",
    "print('Train score',bay_reg.score(X_train,y_train)*100 )\n",
    "print('Test score ',bay_reg.score(X_test,y_test)*100)"
   ]
  },
  {
   "cell_type": "code",
   "execution_count": 65,
   "id": "0a4991d4",
   "metadata": {},
   "outputs": [
    {
     "name": "stdout",
     "output_type": "stream",
     "text": [
      "\n",
      "Cross Validation [0.92274797 0.91552587 0.92710665 0.92264137 0.93193596]\n"
     ]
    }
   ],
   "source": [
    "# Essayons de faire une validation croissé et observons les différent scores obtenu\n",
    "cross = cross_val_score(bay_reg,X_train,y_train,cv=5)\n",
    "\n",
    "#cross = cross_val_score(bay_reg,X_train,y_train,cv=5).mean()\n",
    "#cross_val_score(bay_reg,X_train,y_train,cv=5,scoring='recall')\n",
    "#cross_val_score(bay_reg,X_train,y_train,cv=5,scoring='precision')\n",
    "\n",
    "print('\\nCross Validation',cross)"
   ]
  },
  {
   "cell_type": "code",
   "execution_count": 66,
   "id": "995836c3",
   "metadata": {},
   "outputs": [
    {
     "name": "stdout",
     "output_type": "stream",
     "text": [
      "\n",
      "Average train score 0.9267898970900175\n",
      "Average validation score 0.9234573051118254\n",
      "(100, 3)\n"
     ]
    }
   ],
   "source": [
    "#Traçon la validation curve pour \n",
    "k = np.linspace(0.0001,0.01,100)\n",
    "train_score, val_score = validation_curve(bay_reg,X_train,y_train,\n",
    "                                          cv=3,param_name='tol',\n",
    "                                          param_range=k\n",
    "                                         )\n",
    "\n",
    "print('\\nAverage train score',train_score.mean())\n",
    "print('Average validation score',val_score.mean())\n",
    "print(val_score.shape)"
   ]
  },
  {
   "cell_type": "code",
   "execution_count": 71,
   "id": "d580627d",
   "metadata": {},
   "outputs": [
    {
     "name": "stderr",
     "output_type": "stream",
     "text": [
      "No artists with labels found to put in legend.  Note that artists whose label start with an underscore are ignored when legend() is called with no argument.\n"
     ]
    },
    {
     "data": {
      "image/png": "[encoded data removed]",
      "text/plain": [
       "<Figure size 576x360 with 1 Axes>"
      ]
     },
     "metadata": {
      "needs_background": "light"
     },
     "output_type": "display_data"
    }
   ],
   "source": [
    "# Alors observons cette graphique pour \n",
    "#connaitre la meilleur valeur que doit contenir l'hyper parametres tol\n",
    "\n",
    "plt.figure(figsize=(8,5))\n",
    "plt.plot(k, val_score.mean(axis=1))\n",
    "plt.xlabel('Valeur de l\\'itérateur')\n",
    "plt.ylabel('Tolérance du modèle')\n",
    "plt.title('Recherche de la meilleur valeur de tolérance',loc='right')\n",
    "plt.legend()\n",
    "plt.show()"
   ]
  },
  {
   "cell_type": "markdown",
   "id": "19f7389b",
   "metadata": {},
   "source": [
    "### Nous observons que la ligne est constante a partir de 0.002 pour notre valeur de tol(tolerance ou encore appeler learning rate)"
   ]
  },
  {
   "cell_type": "code",
   "execution_count": 75,
   "id": "a9a89697",
   "metadata": {},
   "outputs": [
    {
     "data": {
      "image/png": "[encoded data removed]",
      "text/plain": [
       "<Figure size 576x360 with 1 Axes>"
      ]
     },
     "metadata": {
      "needs_background": "light"
     },
     "output_type": "display_data"
    }
   ],
   "source": [
    "# Traçons les valeur moyenne des train score et val_score pour voir \n",
    "#si il y'a surapprentissage ou sous apprentissage\n",
    "plt.figure(figsize=(8,5))\n",
    "\n",
    "\n",
    "plt.plot(k, val_score.mean(axis=1), label='Validation'  )\n",
    "plt.plot(k,train_score.mean(axis=1), label='train')\n",
    "plt.legend()\n",
    "\n",
    "plt.xlabel('Tol values')\n",
    "plt.ylabel('Scores values')\n",
    "plt.show()\n",
    "\n"
   ]
  },
  {
   "cell_type": "raw",
   "id": "6b7ba3a3",
   "metadata": {},
   "source": [
    "The gap in between those 2 curves does not indicates OverFitting because,the training curve should always dominate the validation curve"
   ]
  },
  {
   "cell_type": "code",
   "execution_count": 42,
   "id": "a3f3656a",
   "metadata": {},
   "outputs": [
    {
     "data": {
      "text/plain": [
       "GridSearchCV(cv=5, estimator=BayesianRidge(),\n",
       "             param_grid={'tol': array([0.01      , 0.00989796, 0.00979592, 0.00969388, 0.00959184,\n",
       "       0.0094898 , 0.00938776, 0.00928571, 0.00918367, 0.00908163,\n",
       "       0.00897959, 0.00887755, 0.00877551, 0.00867347, 0.00857143,\n",
       "       0.00846939, 0.00836735, 0.00826531, 0.00816327, 0.00806122,\n",
       "       0.00795918, 0.00785714, 0.0077551 , 0.00765306, 0.00755102,\n",
       "       0.00744898, 0.00734694, 0.0072449 , 0.00714286, 0.00704082,\n",
       "       0.00693878, 0.00683673, 0.00673469, 0.00663265, 0.00653061,\n",
       "       0.00642857, 0.00632653, 0.00622449, 0.00612245, 0.00602041,\n",
       "       0.00591837, 0.00581633, 0.00571429, 0.00561224, 0.0055102 ,\n",
       "       0.00540816, 0.00530612, 0.00520408, 0.00510204, 0.005     ])})"
      ]
     },
     "execution_count": 42,
     "metadata": {},
     "output_type": "execute_result"
    }
   ],
   "source": [
    "# Utilison la bibliothèque GridSearchCV pour obtenir les meilleures hyperparametre\n",
    "\n",
    "param_grid = {'tol':np.linspace(0.01,0.005,50),}\n",
    "\n",
    "\n",
    "grid = GridSearchCV(bay_reg, param_grid, cv=5)\n",
    "grid.fit(X_train,y_train)"
   ]
  },
  {
   "cell_type": "code",
   "execution_count": 43,
   "id": "99f0e26b",
   "metadata": {},
   "outputs": [
    {
     "name": "stdout",
     "output_type": "stream",
     "text": [
      "Best estimator : BayesianRidge(tol=0.006530612244897959)\n",
      "Best params : {'tol': 0.006530612244897959}\n",
      "Best score : 0.9239915949952092\n"
     ]
    }
   ],
   "source": [
    "print('Best estimator :',grid.best_estimator_)\n",
    "print('Best params :',grid.best_params_)\n",
    "print('Best score :',grid.best_score_)"
   ]
  },
  {
   "cell_type": "code",
   "execution_count": 44,
   "id": "4a14582d",
   "metadata": {},
   "outputs": [
    {
     "name": "stdout",
     "output_type": "stream",
     "text": [
      "Train score 92.65750466562781\n",
      "Test score  91.51941166975809\n"
     ]
    }
   ],
   "source": [
    "bay_reg = BayesianRidge(tol=0.006530612244897959)\n",
    "bay_reg.fit(X_train,y_train)\n",
    "\n",
    "print('Train score',bay_reg.score(X_train,y_train)*100 )\n",
    "print('Test score ',bay_reg.score(X_test,y_test)*100)"
   ]
  },
  {
   "cell_type": "markdown",
   "id": "f8f6472e",
   "metadata": {},
   "source": [
    "### Ecriture de la fonction qui va nous permettre de prédire la valeur de la note writing score"
   ]
  },
  {
   "cell_type": "code",
   "execution_count": 80,
   "id": "81da7d9b",
   "metadata": {},
   "outputs": [],
   "source": [
    "def predict_writin_score(bay_reg,\n",
    "                         gender_n=1,\n",
    "                         race_ethnicity_n=4,\n",
    "                         parental_level_of_education_n=1,\n",
    "                         lunch_n=0,\n",
    "                         test_preparation_course_n=1,\n",
    "                         reading_score=73,\n",
    "                         math_score=60):\n",
    "    \n",
    "    x = np.array([gender_n,race_ethnicity_n,\n",
    "                  parental_level_of_education_n,\n",
    "                  lunch_n,\n",
    "                  test_preparation_course_n,\n",
    "                  reading_score, \n",
    "                  math_score]).reshape(1,7)\n",
    "    \n",
    "    score = np.rint(bay_reg.predict(x))\n",
    "                    \n",
    "    print(score.astype(int))\n",
    "    #print(bay_reg.predict_proba(x))"
   ]
  },
  {
   "cell_type": "code",
   "execution_count": 46,
   "id": "edc912b0",
   "metadata": {},
   "outputs": [
    {
     "name": "stdout",
     "output_type": "stream",
     "text": [
      "[83]\n"
     ]
    }
   ],
   "source": [
    "predict_writin_score(bay_reg,0,0,0,0,0,85,70)"
   ]
  },
  {
   "cell_type": "markdown",
   "id": "af56ffec",
   "metadata": {},
   "source": [
    "### Nous ne pouvons pas avoir une matrix de confusion dans notre cas car c'est pas un problème de classification"
   ]
  },
  {
   "cell_type": "code",
   "execution_count": 81,
   "id": "349fd3a9",
   "metadata": {},
   "outputs": [],
   "source": [
    "N, train_score,val_score = learning_curve(bay_reg, \n",
    "                                          X_train, \n",
    "                                          y_train, \n",
    "                                          train_sizes=np.linspace(0.1,1.0,10),\n",
    "                                          cv=5\n",
    "                                         )"
   ]
  },
  {
   "cell_type": "code",
   "execution_count": 82,
   "id": "6de735ce",
   "metadata": {},
   "outputs": [
    {
     "name": "stdout",
     "output_type": "stream",
     "text": [
      "Differente taille des X_train : [ 64 128 192 256 320 384 448 512 576 640]\n"
     ]
    }
   ],
   "source": [
    "print('Differente taille des X_train :',N)"
   ]
  },
  {
   "cell_type": "code",
   "execution_count": 83,
   "id": "bcf64382",
   "metadata": {},
   "outputs": [
    {
     "name": "stdout",
     "output_type": "stream",
     "text": [
      "Score moyen des différent entrainement respective: 0.9203934510468217\n"
     ]
    }
   ],
   "source": [
    "print('Score moyen des différent entrainement respective:',train_score.mean())"
   ]
  },
  {
   "cell_type": "code",
   "execution_count": 84,
   "id": "8cd59764",
   "metadata": {},
   "outputs": [
    {
     "name": "stdout",
     "output_type": "stream",
     "text": [
      "Validation Score moyen des différent entrainement respective: 0.9227432219125465\n"
     ]
    }
   ],
   "source": [
    "print('Validation Score moyen des différent entrainement respective:',val_score.mean())"
   ]
  },
  {
   "cell_type": "markdown",
   "id": "fb1a075a",
   "metadata": {},
   "source": [
    "### L'une des l'interpretation qu'on peut tirer d'un learning curve est de connaitre le nombre de points necessaires pour bien entrainer notre modèle, ou la cpourbe d'apprentissage sera collinéaire avec la courbe de validation"
   ]
  },
  {
   "cell_type": "code",
   "execution_count": 86,
   "id": "29d6cd4f",
   "metadata": {},
   "outputs": [
    {
     "data": {
      "image/png": "[encoded data removed]",
      "text/plain": [
       "<Figure size 576x360 with 1 Axes>"
      ]
     },
     "metadata": {
      "needs_background": "light"
     },
     "output_type": "display_data"
    }
   ],
   "source": [
    "plt.figure(figsize=(8,5))\n",
    "\n",
    "plt.plot(N,train_score.mean(axis=1),label='train curve')\n",
    "plt.plot(N,val_score.mean(axis=1), label='validation curve')\n",
    "plt.legend()\n",
    "plt.show()"
   ]
  },
  {
   "cell_type": "markdown",
   "id": "2a410733",
   "metadata": {},
   "source": [
    "### Ici nous observons que la courbe d'apprentissage et la courbe de validation ne se confonde pas(ne sont pas collinéaire) jusqu'a 600point \n",
    "\n",
    "### Donc nous pouvons encore ou devons augmenter nos données pour avoir assez d'observations pour avoir une meilleures performance du modèle"
   ]
  },
  {
   "cell_type": "markdown",
   "id": "ee6f43de",
   "metadata": {},
   "source": [
    "# EVALUONS LES DIFFERENTES METRIC DE REGRESSION D'UN MODELE"
   ]
  },
  {
   "cell_type": "code",
   "execution_count": 114,
   "id": "9e2d7973",
   "metadata": {},
   "outputs": [
    {
     "name": "stdout",
     "output_type": "stream",
     "text": [
      "Mean Absolute Error : 3.368368776790724\n",
      "Mean Square Error : 17.481605455051387\n",
      "Root Mean Square Error : 4.181100985990579\n",
      "Median Absolute Error : 2.838394462113378\n",
      "\n",
      "R_2 score 92.65750514721663\n"
     ]
    }
   ],
   "source": [
    "y_pred = bay_reg.predict(X_train)\n",
    "a = r2_score(y_train,y_pred)*100\n",
    "\n",
    "print('Mean Absolute Error :',mean_absolute_error(y_train, y_pred) )\n",
    "print('Mean Square Error :',mean_squared_error(y_train, y_pred) )\n",
    "print('Root Mean Square Error :',np.sqrt(mean_squared_error(y_train, y_pred)) )\n",
    "print('Median Absolute Error :',median_absolute_error(y_train, y_pred)) \n",
    "print('\\nR_2 score',r2_score(y_train,y_pred)*100)"
   ]
  },
  {
   "cell_type": "code",
   "execution_count": 115,
   "id": "948c5e09",
   "metadata": {},
   "outputs": [
    {
     "name": "stdout",
     "output_type": "stream",
     "text": [
      "Mean Absolute Error : 3.272657038963226\n",
      "Mean Square Error : 16.982462640965746\n",
      "Root Mean Square Error : 4.120978359681806\n",
      "Median Absolute Error : 2.877835386160754\n",
      "\n",
      "R_2 score 91.519410758941\n"
     ]
    }
   ],
   "source": [
    "y_pred2 = bay_reg.predict(X_test)\n",
    "b = r2_score(y_test,y_pred2)*100\n",
    "\n",
    "print('Mean Absolute Error :',mean_absolute_error(y_test, y_pred2) )\n",
    "print('Mean Square Error :',mean_squared_error(y_test, y_pred2) )\n",
    "print('Root Mean Square Error :',np.sqrt(mean_squared_error(y_test, y_pred2)) )\n",
    "print('Median Absolute Error :',median_absolute_error(y_test, y_pred2)) \n",
    "print('\\nR_2 score',r2_score(y_test,y_pred2)*100)"
   ]
  },
  {
   "cell_type": "code",
   "execution_count": 117,
   "id": "099e89a3",
   "metadata": {},
   "outputs": [
    {
     "name": "stdout",
     "output_type": "stream",
     "text": [
      "Diff Mean Absolute Error:               0.09571173782749787\n",
      "Diff Mean Square Error:                 0.49914281408564065\n",
      "Diff Root Mean Square Error:            0.06012262630877263\n",
      "Diff Mean Absolute error:               0.03944092404737631\n",
      "\n",
      "Diff R2_Score:                          1.1380943882756185\n"
     ]
    }
   ],
   "source": [
    "\n",
    "\n",
    "print('Diff Mean Absolute Error:              ',abs(mean_absolute_error(y_train, y_pred) - mean_absolute_error(y_test, y_pred2) )  )\n",
    "print('Diff Mean Square Error:                ',abs( mean_squared_error(y_train, y_pred) - mean_squared_error(y_test, y_pred2)   ) )\n",
    "print('Diff Root Mean Square Error:           ',abs( np.sqrt(mean_squared_error(y_train, y_pred)) - np.sqrt(mean_squared_error(y_test, y_pred2)) ) )\n",
    "print('Diff Mean Absolute error:              ',abs(  median_absolute_error(y_train, y_pred) -  median_absolute_error(y_test, y_pred2)  ) )\n",
    "print('\\nDiff R2_Score:                         ',abs( a - b  ) )"
   ]
  },
  {
   "cell_type": "markdown",
   "id": "e368827c",
   "metadata": {},
   "source": [
    "#### 1.MSE pénalise beaucoup plus les grandes erreurs que la MAE\n",
    "#### 2.MSE vous accordez une importance  plus aux grandes erreurs\n",
    "\n",
    "#### 3. MAE l'importance d'une erreur est linéaire avec son amplitude. Si le Dataset contients des valeurs extrême(Outliers) comme notre jeu de données contient des outliers c'est cette metrique que nous allons utiliser est de 3.36\n",
    "\n",
    "#### 4.Median Absolute error qui est peu très sensible au grandes erreurs 2.83"
   ]
  },
  {
   "cell_type": "code",
   "execution_count": 61,
   "id": "eda643ca",
   "metadata": {},
   "outputs": [
    {
     "data": {
      "image/png": "[encoded data removed]",
      "text/plain": [
       "<Figure size 432x288 with 1 Axes>"
      ]
     },
     "metadata": {
      "needs_background": "light"
     },
     "output_type": "display_data"
    }
   ],
   "source": [
    "# Calculons l'érreur et affichons le sur un histogramme\n",
    "\n",
    "err_hist = np.abs(y_train - y_pred)\n",
    "plt.hist(err_hist,bins=50)\n",
    "plt.show()"
   ]
  },
  {
   "cell_type": "raw",
   "id": "252d3ae8",
   "metadata": {},
   "source": [
    "Sur toutes les prédiction qu'on a fait entre 34-50 on une erreur comprise entre 0-2"
   ]
  },
  {
   "cell_type": "markdown",
   "id": "01288e7e",
   "metadata": {},
   "source": [
    "# TP STUDENT_PERFORMANCE GROUPE 06 PREDICTION"
   ]
  }
 ],
 "metadata": {
  "kernelspec": {
   "display_name": "Python 3 (ipykernel)",
   "language": "python",
   "name": "python3"
  },
  "language_info": {
   "codemirror_mode": {
    "name": "ipython",
    "version": 3
   },
   "file_extension": ".py",
   "mimetype": "text/x-python",
   "name": "python",
   "nbconvert_exporter": "python",
   "pygments_lexer": "ipython3",
   "version": "3.9.12"
  }
 },
 "nbformat": 4,
 "nbformat_minor": 5
}
